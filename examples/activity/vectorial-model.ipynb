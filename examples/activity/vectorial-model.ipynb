{
 "cells": [
  {
   "cell_type": "code",
   "execution_count": 1,
   "id": "happy-backing",
   "metadata": {},
   "outputs": [
    {
     "ename": "TypeError",
     "evalue": "Provided value for configuration item horizons_server not valid: the value \"https://ssd.jpl.nasa.gov/horizons_batch.cgi\" is unacceptable.",
     "output_type": "error",
     "traceback": [
      "\u001b[0;31m---------------------------------------------------------------------------\u001b[0m",
      "\u001b[0;31mVdtValueError\u001b[0m                             Traceback (most recent call last)",
      "File \u001b[0;32m~/anaconda3/envs/sbpy_test/lib/python3.10/site-packages/astropy/config/configuration.py:323\u001b[0m, in \u001b[0;36mConfigItem.set\u001b[0;34m(self, value)\u001b[0m\n\u001b[1;32m    322\u001b[0m \u001b[38;5;28;01mtry\u001b[39;00m:\n\u001b[0;32m--> 323\u001b[0m     value \u001b[38;5;241m=\u001b[39m \u001b[38;5;28;43mself\u001b[39;49m\u001b[38;5;241;43m.\u001b[39;49m\u001b[43m_validate_val\u001b[49m\u001b[43m(\u001b[49m\u001b[43mvalue\u001b[49m\u001b[43m)\u001b[49m\n\u001b[1;32m    324\u001b[0m \u001b[38;5;28;01mexcept\u001b[39;00m validate\u001b[38;5;241m.\u001b[39mValidateError \u001b[38;5;28;01mas\u001b[39;00m e:\n",
      "File \u001b[0;32m~/anaconda3/envs/sbpy_test/lib/python3.10/site-packages/astropy/config/configuration.py:485\u001b[0m, in \u001b[0;36mConfigItem._validate_val\u001b[0;34m(self, val)\u001b[0m\n\u001b[1;32m    482\u001b[0m \u001b[38;5;66;03m# note that this will normally use the *class* attribute `_validator`,\u001b[39;00m\n\u001b[1;32m    483\u001b[0m \u001b[38;5;66;03m# but if some arcane reason is needed for making a special one for an\u001b[39;00m\n\u001b[1;32m    484\u001b[0m \u001b[38;5;66;03m# instance or sub-class, it will be used\u001b[39;00m\n\u001b[0;32m--> 485\u001b[0m \u001b[38;5;28;01mreturn\u001b[39;00m \u001b[38;5;28;43mself\u001b[39;49m\u001b[38;5;241;43m.\u001b[39;49m\u001b[43m_validator\u001b[49m\u001b[38;5;241;43m.\u001b[39;49m\u001b[43mcheck\u001b[49m\u001b[43m(\u001b[49m\u001b[38;5;28;43mself\u001b[39;49m\u001b[38;5;241;43m.\u001b[39;49m\u001b[43mcfgtype\u001b[49m\u001b[43m,\u001b[49m\u001b[43m \u001b[49m\u001b[43mval\u001b[49m\u001b[43m)\u001b[49m\n",
      "File \u001b[0;32m~/anaconda3/envs/sbpy_test/lib/python3.10/site-packages/astropy/extern/configobj/validate.py:625\u001b[0m, in \u001b[0;36mValidator.check\u001b[0;34m(self, check, value, missing)\u001b[0m\n\u001b[1;32m    623\u001b[0m     \u001b[38;5;28;01mreturn\u001b[39;00m \u001b[38;5;28;01mNone\u001b[39;00m\n\u001b[0;32m--> 625\u001b[0m \u001b[38;5;28;01mreturn\u001b[39;00m \u001b[38;5;28;43mself\u001b[39;49m\u001b[38;5;241;43m.\u001b[39;49m\u001b[43m_check_value\u001b[49m\u001b[43m(\u001b[49m\u001b[43mvalue\u001b[49m\u001b[43m,\u001b[49m\u001b[43m \u001b[49m\u001b[43mfun_name\u001b[49m\u001b[43m,\u001b[49m\u001b[43m \u001b[49m\u001b[43mfun_args\u001b[49m\u001b[43m,\u001b[49m\u001b[43m \u001b[49m\u001b[43mfun_kwargs\u001b[49m\u001b[43m)\u001b[49m\n",
      "File \u001b[0;32m~/anaconda3/envs/sbpy_test/lib/python3.10/site-packages/astropy/extern/configobj/validate.py:657\u001b[0m, in \u001b[0;36mValidator._check_value\u001b[0;34m(self, value, fun_name, fun_args, fun_kwargs)\u001b[0m\n\u001b[1;32m    656\u001b[0m \u001b[38;5;28;01melse\u001b[39;00m:\n\u001b[0;32m--> 657\u001b[0m     \u001b[38;5;28;01mreturn\u001b[39;00m \u001b[43mfun\u001b[49m\u001b[43m(\u001b[49m\u001b[43mvalue\u001b[49m\u001b[43m,\u001b[49m\u001b[43m \u001b[49m\u001b[38;5;241;43m*\u001b[39;49m\u001b[43mfun_args\u001b[49m\u001b[43m,\u001b[49m\u001b[43m \u001b[49m\u001b[38;5;241;43m*\u001b[39;49m\u001b[38;5;241;43m*\u001b[39;49m\u001b[43mfun_kwargs\u001b[49m\u001b[43m)\u001b[49m\n",
      "File \u001b[0;32m~/anaconda3/envs/sbpy_test/lib/python3.10/site-packages/astropy/extern/configobj/validate.py:1332\u001b[0m, in \u001b[0;36mis_option\u001b[0;34m(value, *options)\u001b[0m\n\u001b[1;32m   1331\u001b[0m \u001b[38;5;28;01mif\u001b[39;00m \u001b[38;5;129;01mnot\u001b[39;00m value \u001b[38;5;129;01min\u001b[39;00m options:\n\u001b[0;32m-> 1332\u001b[0m     \u001b[38;5;28;01mraise\u001b[39;00m VdtValueError(value)\n\u001b[1;32m   1333\u001b[0m \u001b[38;5;28;01mreturn\u001b[39;00m value\n",
      "\u001b[0;31mVdtValueError\u001b[0m: the value \"https://ssd.jpl.nasa.gov/horizons_batch.cgi\" is unacceptable.",
      "\nDuring handling of the above exception, another exception occurred:\n",
      "\u001b[0;31mTypeError\u001b[0m                                 Traceback (most recent call last)",
      "Input \u001b[0;32mIn [1]\u001b[0m, in \u001b[0;36m<module>\u001b[0;34m\u001b[0m\n\u001b[1;32m      1\u001b[0m \u001b[38;5;28;01mimport\u001b[39;00m \u001b[38;5;21;01mnumpy\u001b[39;00m \u001b[38;5;28;01mas\u001b[39;00m \u001b[38;5;21;01mnp\u001b[39;00m\n\u001b[1;32m      2\u001b[0m \u001b[38;5;28;01mimport\u001b[39;00m \u001b[38;5;21;01mastropy\u001b[39;00m\u001b[38;5;21;01m.\u001b[39;00m\u001b[38;5;21;01munits\u001b[39;00m \u001b[38;5;28;01mas\u001b[39;00m \u001b[38;5;21;01mu\u001b[39;00m\n\u001b[0;32m----> 3\u001b[0m \u001b[38;5;28;01mimport\u001b[39;00m \u001b[38;5;21;01msbpy\u001b[39;00m\u001b[38;5;21;01m.\u001b[39;00m\u001b[38;5;21;01mactivity\u001b[39;00m \u001b[38;5;28;01mas\u001b[39;00m \u001b[38;5;21;01msba\u001b[39;00m\n\u001b[1;32m      4\u001b[0m \u001b[38;5;28;01mimport\u001b[39;00m \u001b[38;5;21;01mmatplotlib\u001b[39;00m\u001b[38;5;21;01m.\u001b[39;00m\u001b[38;5;21;01mpyplot\u001b[39;00m \u001b[38;5;28;01mas\u001b[39;00m \u001b[38;5;21;01mplt\u001b[39;00m\n\u001b[1;32m      5\u001b[0m \u001b[38;5;28;01mfrom\u001b[39;00m \u001b[38;5;21;01msbpy\u001b[39;00m\u001b[38;5;21;01m.\u001b[39;00m\u001b[38;5;21;01mdata\u001b[39;00m \u001b[38;5;28;01mimport\u001b[39;00m Phys\n",
      "File \u001b[0;32m~/anaconda3/envs/sbpy_test/lib/python3.10/site-packages/sbpy/activity/__init__.py:5\u001b[0m, in \u001b[0;36m<module>\u001b[0;34m\u001b[0m\n\u001b[1;32m      1\u001b[0m \u001b[38;5;124;03m\"\"\"\u001b[39;00m\n\u001b[1;32m      2\u001b[0m \u001b[38;5;124;03mSBPy Module for simulating cometary activity and observations.\u001b[39;00m\n\u001b[1;32m      3\u001b[0m \u001b[38;5;124;03m\"\"\"\u001b[39;00m\n\u001b[0;32m----> 5\u001b[0m \u001b[38;5;28;01mfrom\u001b[39;00m \u001b[38;5;21;01m.\u001b[39;00m\u001b[38;5;21;01mcore\u001b[39;00m \u001b[38;5;28;01mimport\u001b[39;00m \u001b[38;5;241m*\u001b[39m\n\u001b[1;32m      6\u001b[0m \u001b[38;5;28;01mfrom\u001b[39;00m \u001b[38;5;21;01m.\u001b[39;00m\u001b[38;5;21;01mdust\u001b[39;00m \u001b[38;5;28;01mimport\u001b[39;00m \u001b[38;5;241m*\u001b[39m\n\u001b[1;32m      7\u001b[0m \u001b[38;5;28;01mfrom\u001b[39;00m \u001b[38;5;21;01m.\u001b[39;00m\u001b[38;5;21;01mgas\u001b[39;00m \u001b[38;5;28;01mimport\u001b[39;00m \u001b[38;5;241m*\u001b[39m\n",
      "File \u001b[0;32m~/anaconda3/envs/sbpy_test/lib/python3.10/site-packages/sbpy/activity/core.py:27\u001b[0m, in \u001b[0;36m<module>\u001b[0;34m\u001b[0m\n\u001b[1;32m     24\u001b[0m \u001b[38;5;28;01mimport\u001b[39;00m \u001b[38;5;21;01mastropy\u001b[39;00m\u001b[38;5;21;01m.\u001b[39;00m\u001b[38;5;21;01munits\u001b[39;00m \u001b[38;5;28;01mas\u001b[39;00m \u001b[38;5;21;01mu\u001b[39;00m\n\u001b[1;32m     26\u001b[0m \u001b[38;5;28;01mfrom\u001b[39;00m \u001b[38;5;21;01m.\u001b[39;00m\u001b[38;5;21;01m.\u001b[39;00m \u001b[38;5;28;01mimport\u001b[39;00m data \u001b[38;5;28;01mas\u001b[39;00m sbd\n\u001b[0;32m---> 27\u001b[0m \u001b[38;5;28;01mfrom\u001b[39;00m \u001b[38;5;21;01m.\u001b[39;00m\u001b[38;5;21;01m.\u001b[39;00m \u001b[38;5;28;01mimport\u001b[39;00m units \u001b[38;5;28;01mas\u001b[39;00m sbu\n\u001b[1;32m     30\u001b[0m \u001b[38;5;28;01mclass\u001b[39;00m \u001b[38;5;21;01mAperture\u001b[39;00m(ABC):\n\u001b[1;32m     31\u001b[0m     \u001b[38;5;124;03m\"\"\"\u001b[39;00m\n\u001b[1;32m     32\u001b[0m \u001b[38;5;124;03m    Abstract base class for photometric apertures.\u001b[39;00m\n\u001b[1;32m     33\u001b[0m \n\u001b[0;32m   (...)\u001b[0m\n\u001b[1;32m     38\u001b[0m \n\u001b[1;32m     39\u001b[0m \u001b[38;5;124;03m    \"\"\"\u001b[39;00m\n",
      "File \u001b[0;32m~/anaconda3/envs/sbpy_test/lib/python3.10/site-packages/sbpy/units/__init__.py:7\u001b[0m, in \u001b[0;36m<module>\u001b[0;34m\u001b[0m\n\u001b[1;32m      1\u001b[0m \u001b[38;5;66;03m# Licensed under a 3-clause BSD style license - see LICENSE.rst\u001b[39;00m\n\u001b[1;32m      3\u001b[0m \u001b[38;5;124;03m\"\"\"Common planetary astronomy units.\u001b[39;00m\n\u001b[1;32m      4\u001b[0m \n\u001b[1;32m      5\u001b[0m \u001b[38;5;124;03m\"\"\"\u001b[39;00m\n\u001b[0;32m----> 7\u001b[0m \u001b[38;5;28;01mfrom\u001b[39;00m \u001b[38;5;21;01m.\u001b[39;00m\u001b[38;5;21;01mcore\u001b[39;00m \u001b[38;5;28;01mimport\u001b[39;00m \u001b[38;5;241m*\u001b[39m\n\u001b[1;32m     10\u001b[0m \u001b[38;5;66;03m###########################################################################\u001b[39;00m\n\u001b[1;32m     11\u001b[0m \u001b[38;5;66;03m# DOCSTRING\u001b[39;00m\n\u001b[1;32m     12\u001b[0m \n\u001b[1;32m     13\u001b[0m \u001b[38;5;66;03m# This generates a docstring for this module that describes all of the\u001b[39;00m\n\u001b[1;32m     14\u001b[0m \u001b[38;5;66;03m# standard units defined here.\u001b[39;00m\n\u001b[1;32m     15\u001b[0m \u001b[38;5;28;01mfrom\u001b[39;00m \u001b[38;5;21;01mastropy\u001b[39;00m\u001b[38;5;21;01m.\u001b[39;00m\u001b[38;5;21;01munits\u001b[39;00m\u001b[38;5;21;01m.\u001b[39;00m\u001b[38;5;21;01mutils\u001b[39;00m \u001b[38;5;28;01mimport\u001b[39;00m generate_unit_summary \u001b[38;5;28;01mas\u001b[39;00m _generate_unit_summary\n",
      "File \u001b[0;32m~/anaconda3/envs/sbpy_test/lib/python3.10/site-packages/sbpy/units/core.py:34\u001b[0m, in \u001b[0;36m<module>\u001b[0;34m\u001b[0m\n\u001b[1;32m     32\u001b[0m \u001b[38;5;28;01mimport\u001b[39;00m \u001b[38;5;21;01mastropy\u001b[39;00m\u001b[38;5;21;01m.\u001b[39;00m\u001b[38;5;21;01mconstants\u001b[39;00m \u001b[38;5;28;01mas\u001b[39;00m \u001b[38;5;21;01mconst\u001b[39;00m\n\u001b[1;32m     33\u001b[0m \u001b[38;5;28;01mfrom\u001b[39;00m \u001b[38;5;21;01m.\u001b[39;00m\u001b[38;5;21;01m.\u001b[39;00m\u001b[38;5;21;01mexceptions\u001b[39;00m \u001b[38;5;28;01mimport\u001b[39;00m SbpyWarning\n\u001b[0;32m---> 34\u001b[0m \u001b[38;5;28;01mfrom\u001b[39;00m \u001b[38;5;21;01m.\u001b[39;00m\u001b[38;5;21;01m.\u001b[39;00m\u001b[38;5;21;01mcalib\u001b[39;00m \u001b[38;5;28;01mimport\u001b[39;00m (\n\u001b[1;32m     35\u001b[0m     Vega, Sun, vega_fluxd, FilterLookupError, UndefinedSourceError\n\u001b[1;32m     36\u001b[0m )\n\u001b[1;32m     37\u001b[0m \u001b[38;5;28;01mfrom\u001b[39;00m \u001b[38;5;21;01m.\u001b[39;00m\u001b[38;5;21;01m.\u001b[39;00m \u001b[38;5;28;01mimport\u001b[39;00m data \u001b[38;5;28;01mas\u001b[39;00m sbd\n\u001b[1;32m     38\u001b[0m \u001b[38;5;28;01mfrom\u001b[39;00m \u001b[38;5;21;01m.\u001b[39;00m\u001b[38;5;21;01m.\u001b[39;00m\u001b[38;5;21;01mspectroscopy\u001b[39;00m\u001b[38;5;21;01m.\u001b[39;00m\u001b[38;5;21;01msources\u001b[39;00m \u001b[38;5;28;01mimport\u001b[39;00m SinglePointSpectrumError, SynphotRequired\n",
      "File \u001b[0;32m~/anaconda3/envs/sbpy_test/lib/python3.10/site-packages/sbpy/calib/__init__.py:49\u001b[0m, in \u001b[0;36m<module>\u001b[0;34m\u001b[0m\n\u001b[1;32m      1\u001b[0m \u001b[38;5;66;03m# Licensed under a 3-clause BSD style license - see LICENSE.rst\u001b[39;00m\n\u001b[1;32m      3\u001b[0m \u001b[38;5;124;03m\"\"\"sbpy photometric calibration\u001b[39;00m\n\u001b[1;32m      4\u001b[0m \n\u001b[1;32m      5\u001b[0m \u001b[38;5;124;03mMost functionality requires the `synphot` package.\u001b[39;00m\n\u001b[0;32m   (...)\u001b[0m\n\u001b[1;32m     46\u001b[0m \n\u001b[1;32m     47\u001b[0m \u001b[38;5;124;03m\"\"\"\u001b[39;00m\n\u001b[0;32m---> 49\u001b[0m \u001b[38;5;28;01mfrom\u001b[39;00m \u001b[38;5;21;01m.\u001b[39;00m\u001b[38;5;21;01mcore\u001b[39;00m \u001b[38;5;28;01mimport\u001b[39;00m \u001b[38;5;241m*\u001b[39m\n\u001b[1;32m     50\u001b[0m \u001b[38;5;28;01mfrom\u001b[39;00m \u001b[38;5;21;01m.\u001b[39;00m \u001b[38;5;28;01mimport\u001b[39;00m solar_sources\n\u001b[1;32m     51\u001b[0m \u001b[38;5;28;01mfrom\u001b[39;00m \u001b[38;5;21;01m.\u001b[39;00m \u001b[38;5;28;01mimport\u001b[39;00m vega_sources\n",
      "File \u001b[0;32m~/anaconda3/envs/sbpy_test/lib/python3.10/site-packages/sbpy/calib/core.py:37\u001b[0m, in \u001b[0;36m<module>\u001b[0;34m\u001b[0m\n\u001b[1;32m     34\u001b[0m \u001b[38;5;28;01mfrom\u001b[39;00m \u001b[38;5;21;01mastropy\u001b[39;00m\u001b[38;5;21;01m.\u001b[39;00m\u001b[38;5;21;01mio\u001b[39;00m \u001b[38;5;28;01mimport\u001b[39;00m ascii\n\u001b[1;32m     35\u001b[0m \u001b[38;5;28;01mimport\u001b[39;00m \u001b[38;5;21;01mastropy\u001b[39;00m\u001b[38;5;21;01m.\u001b[39;00m\u001b[38;5;21;01munits\u001b[39;00m \u001b[38;5;28;01mas\u001b[39;00m \u001b[38;5;21;01mu\u001b[39;00m\n\u001b[0;32m---> 37\u001b[0m \u001b[38;5;28;01mfrom\u001b[39;00m \u001b[38;5;21;01m.\u001b[39;00m\u001b[38;5;21;01m.\u001b[39;00m\u001b[38;5;21;01mspectroscopy\u001b[39;00m\u001b[38;5;21;01m.\u001b[39;00m\u001b[38;5;21;01msources\u001b[39;00m \u001b[38;5;28;01mimport\u001b[39;00m SpectralSource, SynphotRequired\n\u001b[1;32m     38\u001b[0m \u001b[38;5;28;01mfrom\u001b[39;00m \u001b[38;5;21;01m.\u001b[39;00m\u001b[38;5;21;01m.\u001b[39;00m\u001b[38;5;21;01mexceptions\u001b[39;00m \u001b[38;5;28;01mimport\u001b[39;00m SbpyException, OptionalPackageUnavailable\n\u001b[1;32m     39\u001b[0m \u001b[38;5;28;01mfrom\u001b[39;00m \u001b[38;5;21;01m.\u001b[39;00m\u001b[38;5;21;01m.\u001b[39;00m \u001b[38;5;28;01mimport\u001b[39;00m bib\n",
      "File \u001b[0;32m~/anaconda3/envs/sbpy_test/lib/python3.10/site-packages/sbpy/spectroscopy/__init__.py:5\u001b[0m, in \u001b[0;36m<module>\u001b[0;34m\u001b[0m\n\u001b[1;32m      1\u001b[0m \u001b[38;5;124;03m\"\"\"\u001b[39;00m\n\u001b[1;32m      2\u001b[0m \u001b[38;5;124;03msbpy module for small body spectroscopy\u001b[39;00m\n\u001b[1;32m      3\u001b[0m \u001b[38;5;124;03m\"\"\"\u001b[39;00m\n\u001b[0;32m----> 5\u001b[0m \u001b[38;5;28;01mfrom\u001b[39;00m \u001b[38;5;21;01m.\u001b[39;00m\u001b[38;5;21;01mcore\u001b[39;00m \u001b[38;5;28;01mimport\u001b[39;00m \u001b[38;5;241m*\u001b[39m\n\u001b[1;32m      6\u001b[0m \u001b[38;5;28;01mfrom\u001b[39;00m \u001b[38;5;21;01m.\u001b[39;00m\u001b[38;5;21;01msources\u001b[39;00m \u001b[38;5;28;01mimport\u001b[39;00m \u001b[38;5;241m*\u001b[39m\n",
      "File \u001b[0;32m~/anaconda3/envs/sbpy_test/lib/python3.10/site-packages/sbpy/spectroscopy/core.py:25\u001b[0m, in \u001b[0;36m<module>\u001b[0;34m\u001b[0m\n\u001b[1;32m     21\u001b[0m     \u001b[38;5;28;01mclass\u001b[39;00m \u001b[38;5;21;01mSpectralElement\u001b[39;00m:\n\u001b[1;32m     22\u001b[0m         \u001b[38;5;28;01mpass\u001b[39;00m\n\u001b[0;32m---> 25\u001b[0m conf\u001b[38;5;241m.\u001b[39mhorizons_server \u001b[38;5;241m=\u001b[39m \u001b[38;5;124m'\u001b[39m\u001b[38;5;124mhttps://ssd.jpl.nasa.gov/horizons_batch.cgi\u001b[39m\u001b[38;5;124m'\u001b[39m\n\u001b[1;32m     27\u001b[0m __all__ \u001b[38;5;241m=\u001b[39m [\u001b[38;5;124m'\u001b[39m\u001b[38;5;124mSpectrum\u001b[39m\u001b[38;5;124m'\u001b[39m, \u001b[38;5;124m'\u001b[39m\u001b[38;5;124mSpectralModel\u001b[39m\u001b[38;5;124m'\u001b[39m, \u001b[38;5;124m'\u001b[39m\u001b[38;5;124mSpectralGradient\u001b[39m\u001b[38;5;124m'\u001b[39m]\n\u001b[1;32m     30\u001b[0m \u001b[38;5;28;01mclass\u001b[39;00m \u001b[38;5;21;01mSpectralGradient\u001b[39;00m(u\u001b[38;5;241m.\u001b[39mSpecificTypeQuantity):\n",
      "File \u001b[0;32m~/anaconda3/envs/sbpy_test/lib/python3.10/site-packages/astropy/config/configuration.py:298\u001b[0m, in \u001b[0;36mConfigItem.__set__\u001b[0;34m(self, obj, value)\u001b[0m\n\u001b[1;32m    297\u001b[0m \u001b[38;5;28;01mdef\u001b[39;00m \u001b[38;5;21m__set__\u001b[39m(\u001b[38;5;28mself\u001b[39m, obj, value):\n\u001b[0;32m--> 298\u001b[0m     \u001b[38;5;28;01mreturn\u001b[39;00m \u001b[38;5;28;43mself\u001b[39;49m\u001b[38;5;241;43m.\u001b[39;49m\u001b[43mset\u001b[49m\u001b[43m(\u001b[49m\u001b[43mvalue\u001b[49m\u001b[43m)\u001b[49m\n",
      "File \u001b[0;32m~/anaconda3/envs/sbpy_test/lib/python3.10/site-packages/astropy/config/configuration.py:326\u001b[0m, in \u001b[0;36mConfigItem.set\u001b[0;34m(self, value)\u001b[0m\n\u001b[1;32m    324\u001b[0m \u001b[38;5;28;01mexcept\u001b[39;00m validate\u001b[38;5;241m.\u001b[39mValidateError \u001b[38;5;28;01mas\u001b[39;00m e:\n\u001b[1;32m    325\u001b[0m     msg \u001b[38;5;241m=\u001b[39m \u001b[38;5;124m'\u001b[39m\u001b[38;5;124mProvided value for configuration item \u001b[39m\u001b[38;5;132;01m{0}\u001b[39;00m\u001b[38;5;124m not valid: \u001b[39m\u001b[38;5;132;01m{1}\u001b[39;00m\u001b[38;5;124m'\u001b[39m\n\u001b[0;32m--> 326\u001b[0m     \u001b[38;5;28;01mraise\u001b[39;00m \u001b[38;5;167;01mTypeError\u001b[39;00m(msg\u001b[38;5;241m.\u001b[39mformat(\u001b[38;5;28mself\u001b[39m\u001b[38;5;241m.\u001b[39mname, e\u001b[38;5;241m.\u001b[39margs[\u001b[38;5;241m0\u001b[39m]))\n\u001b[1;32m    328\u001b[0m sec \u001b[38;5;241m=\u001b[39m get_config(\u001b[38;5;28mself\u001b[39m\u001b[38;5;241m.\u001b[39mmodule, rootname\u001b[38;5;241m=\u001b[39m\u001b[38;5;28mself\u001b[39m\u001b[38;5;241m.\u001b[39mrootname)\n\u001b[1;32m    330\u001b[0m sec[\u001b[38;5;28mself\u001b[39m\u001b[38;5;241m.\u001b[39mname] \u001b[38;5;241m=\u001b[39m value\n",
      "\u001b[0;31mTypeError\u001b[0m: Provided value for configuration item horizons_server not valid: the value \"https://ssd.jpl.nasa.gov/horizons_batch.cgi\" is unacceptable."
     ]
    }
   ],
   "source": [
    "import numpy as np\n",
    "import astropy.units as u\n",
    "import sbpy.activity as sba\n",
    "import matplotlib.pyplot as plt\n",
    "from sbpy.data import Phys\n",
    "from astropy.visualization import quantity_support"
   ]
  },
  {
   "cell_type": "markdown",
   "id": "abstract-paradise",
   "metadata": {},
   "source": [
    "# Applying the vectorial model included in sbpy.activity"
   ]
  },
  {
   "cell_type": "markdown",
   "id": "nominated-mixture",
   "metadata": {},
   "source": [
    "The vectorial model implemented here is described in [Festou 1981](https://ui.adsabs.harvard.edu/abs/1981A%26A....95...69F) and incorporated as a derived class of GasComa in [`sbpy.activity.gas`]() that serves as an alternative to the Haser model ([Haser 1957](https://ui.adsabs.harvard.edu/abs/1957BSRSL..43..740H/abstract), [Haser 2020](https://iopscience.iop.org/article/10.3847/PSJ/abc17b/meta)) to obtain the density distribution of neutral fragments produced by the photodissociation of parent molecules."
   ]
  },
  {
   "cell_type": "markdown",
   "id": "angry-january",
   "metadata": {},
   "source": [
    "# Input parameters"
   ]
  },
  {
   "cell_type": "markdown",
   "id": "natural-commission",
   "metadata": {},
   "source": [
    "### Parent and fragment data\n",
    "The model supports two methods of specifying the parent production and its time dependence, both of which are covered below.  The observation time of the model is always at t = 0, and positive time values indicate farther into the past.\n",
    "\n",
    "We begin by specifying some physical details about our parent and fragment molecules.\n",
    "In our example calculations, the parent and fragment molecules are H2O and OH respectively:"
   ]
  },
  {
   "cell_type": "code",
   "execution_count": null,
   "id": "narrow-script",
   "metadata": {},
   "outputs": [],
   "source": [
    "# Rough parameters for a quick example calculation\n",
    "\n",
    "# Parent molecule is H2O\n",
    "parent_species = Phys.from_dict({\n",
    "    # Total lifetime: will be smaller due to other sources of destruction, but this multiplicative\n",
    "    # factor is approximate\n",
    "    'tau_T': sba.photo_timescale('H2O') * 0.8,\n",
    "    # Dissociative lifetime\n",
    "    'tau_d': sba.photo_timescale('H2O'),\n",
    "    # Outflow velocity, taken from Cochran and Schleicher, 1993\n",
    "    'v_outflow': 0.85 * u.km/u.s,\n",
    "    # Approximate cross section\n",
    "    'sigma': 3e-16 * u.cm**2\n",
    "    })\n",
    "\n",
    "# Fragment is OH\n",
    "fragment_species = Phys.from_dict({\n",
    "    # Total lifetime: Again, factor of 0.8 is approximate\n",
    "    'tau_T': sba.photo_timescale('OH') * 0.8,\n",
    "    # Velocity after dissociation, taken from Cochran and Schleicher, 1993\n",
    "    'v_photo': 1.05 * u.km/u.s\n",
    "    })"
   ]
  },
  {
   "cell_type": "markdown",
   "id": "remarkable-water",
   "metadata": {},
   "source": [
    "### Time Dependence and Production: Method 1, binned production\n",
    "The first method allows for an array of steady production values, paired with the times at which they start:"
   ]
  },
  {
   "cell_type": "code",
   "execution_count": null,
   "id": "continued-northwest",
   "metadata": {},
   "outputs": [],
   "source": [
    "# 30 days ago to 5 days ago, Q was 1e28\n",
    "# 5 days ago to 3 days ago, Q jumps to 5e28\n",
    "# 3 days ago until present, Q was 2e28\n",
    "times_at_production = [30, 5, 3] * u.day\n",
    "production_rates = [1.e28, 5.e28, 2.e28] * (1/u.s)\n",
    "\n",
    "# Line below is commented out because we don't need the notebook to actually run this calculation\n",
    "# coma_one = sba.VectorialModel.binned_production(qs=production_rates, parent=parent_species, fragment=fragment_species, ts=times_at_production)"
   ]
  },
  {
   "cell_type": "markdown",
   "id": "impossible-marble",
   "metadata": {},
   "source": [
    "Note that the first entry in the production, 1e28, will be used by the model as a base production rate, which decides things like grid size, and extends that production backward to all times further in the past.\n",
    "\n",
    "---"
   ]
  },
  {
   "cell_type": "markdown",
   "id": "activated-engineer",
   "metadata": {},
   "source": [
    "### Time Dependence and Production: Method 2, arbitrary time dependence\n",
    "The second method allows the specification of a constant base_q production rate and an optional time-dependent production rate q_t that is additive to the base, so that the production at any time is\n",
    "\n",
    "    q_tot = base_q + q_t(t)\n",
    "\n",
    "If no q_t is given, then production is assumed to be steady at base_q.\n",
    "\n",
    "Here we construct a water production that varies sinusoidally between 1e28 and 3e28 with a period of 10 hours:"
   ]
  },
  {
   "cell_type": "code",
   "execution_count": null,
   "id": "constant-software",
   "metadata": {},
   "outputs": [],
   "source": [
    "def make_sine_q_t(amplitude, period, delta):\n",
    "    period_in_secs = period.to(u.s).value\n",
    "    delta_in_secs = delta.to(u.s).value\n",
    "    amp_in_invsecs = amplitude.to(1/u.s).value\n",
    "    const_B = (2.0 * np.pi)/period_in_secs\n",
    "\n",
    "    def q_t(t):\n",
    "        return amp_in_invsecs * (\n",
    "                np.sin(const_B*(t + delta_in_secs)) + 1\n",
    "                )\n",
    "\n",
    "    return q_t\n",
    "\n",
    "base_q = 1e28\n",
    "q_t = make_sine_q_t(1e28 * (1/u.s), 10.0 * u.hour, -2.5 * u.hour)\n",
    "\n",
    "# Check that this is actually doing what we want\n",
    "for hour in [0, 2.5, 5.0, 7.5, 10.0]*u.hour:\n",
    "    print(f\"Production at t = {hour} ago:\\t{base_q + q_t(hour.to(u.s).value):3.2e}\")"
   ]
  },
  {
   "cell_type": "markdown",
   "id": "neutral-graham",
   "metadata": {},
   "source": [
    "And we hand this off to the model:"
   ]
  },
  {
   "cell_type": "code",
   "execution_count": null,
   "id": "danish-coverage",
   "metadata": {},
   "outputs": [],
   "source": [
    "coma_sine = sba.VectorialModel(base_q=base_q*(1/u.s),\n",
    "                          parent=parent_species,\n",
    "                          fragment=fragment_species,\n",
    "                          q_t=q_t,\n",
    "                          print_progress=True\n",
    "                          )"
   ]
  },
  {
   "cell_type": "markdown",
   "id": "danish-canberra",
   "metadata": {},
   "source": [
    "# Examining the results\n",
    "After the calculations are finished, the results are stored in the dictionary `vmodel` and contain information about the volume & column densities, the grids used to in the calculations, and some other things that might be useful."
   ]
  },
  {
   "cell_type": "markdown",
   "id": "comfortable-keeping",
   "metadata": {},
   "source": [
    "## Fragment volume density"
   ]
  },
  {
   "cell_type": "markdown",
   "id": "private-brand",
   "metadata": {},
   "source": [
    "If we need to see the number density of the fragments as computed on the model's grid, we can see that here:"
   ]
  },
  {
   "cell_type": "code",
   "execution_count": null,
   "id": "freelance-prime",
   "metadata": {
    "scrolled": true
   },
   "outputs": [],
   "source": [
    "print(\"\\n\\nRadius (km) vs Fragment density (1/cm3)\\n---------------------------------------\")\n",
    "volume_densities = list(zip(coma_sine.vmodel['radial_grid'], coma_sine.vmodel['radial_density']))\n",
    "for pair in volume_densities:\n",
    "    print(f'{pair[0].to(u.km):7.0f} :\\t{pair[1].to(1/(u.cm**3)):5.3e}')"
   ]
  },
  {
   "cell_type": "markdown",
   "id": "capable-barrel",
   "metadata": {},
   "source": [
    "An interpolated function of this volume density is also available at `coma.vmodel['r_dens_interpolation']` that takes its argument in meters (no astropy units) and returns the volume density in 1/m^3 (also no units).\n",
    "\n",
    "Note that the volume density is only tracked out to a certain radius, which can cause the column density at the edge of the coma to behave strangely if there is a significant amount of fragments near the edge of the model's grid."
   ]
  },
  {
   "cell_type": "markdown",
   "id": "anticipated-amendment",
   "metadata": {},
   "source": [
    "## Fragment column density\n",
    "\n",
    "### Printing the results from the grid"
   ]
  },
  {
   "cell_type": "code",
   "execution_count": null,
   "id": "static-bookmark",
   "metadata": {
    "scrolled": true
   },
   "outputs": [],
   "source": [
    "print(\"\\nRadius (km) vs Column density (1/cm2)\\n-------------------------------------\")\n",
    "column_densities = list(zip(coma_sine.vmodel['column_density_grid'], coma_sine.vmodel['column_densities']))\n",
    "for pair in column_densities:\n",
    "    print(f'{pair[0].to(u.km):7.0f} :\\t{pair[1].to(1/(u.cm**2)):5.3e}')"
   ]
  },
  {
   "cell_type": "markdown",
   "id": "academic-beaver",
   "metadata": {},
   "source": [
    "### Graphing the column density\n",
    "\n",
    "To visualize the results, we can see the column density results from the grid used in the calculations alongside the interpolated column density, with an additional comparison to a linear interpolation of the grid:"
   ]
  },
  {
   "cell_type": "code",
   "execution_count": null,
   "id": "activated-graduation",
   "metadata": {},
   "outputs": [],
   "source": [
    "solarbluecol = np.array([38, 139, 220]) / 255.\n",
    "solarblue = (solarbluecol[0], solarbluecol[1], solarbluecol[2], 1)\n",
    "solargreencol = np.array([133, 153, 0]) / 255.\n",
    "solargreen = (solargreencol[0], solargreencol[1], solargreencol[2], 1)\n",
    "solarblackcol = np.array([0, 43, 54]) / 255.\n",
    "solarblack = (solarblackcol[0], solarblackcol[1], solarblackcol[2], 1)\n",
    "\n",
    "def show_column_density_plots(coma, r_units, cd_units, frag_name):\n",
    "    \"\"\" Show the radial density of the fragment species \"\"\"\n",
    "\n",
    "    x_min_logplot = 3\n",
    "    x_max_logplot = 9\n",
    "\n",
    "    x_min_linear = (0 * u.km).to(u.m)\n",
    "    x_max_linear = (2000 * u.km).to(u.m)\n",
    "\n",
    "    lin_interp_x = np.linspace(x_min_linear.value, x_max_linear.value, num=200)\n",
    "    lin_interp_y = coma.vmodel['column_density_interpolation'](lin_interp_x)/(u.m**2)\n",
    "    lin_interp_x *= u.m\n",
    "    lin_interp_x.to(r_units)\n",
    "\n",
    "    log_interp_x = np.logspace(x_min_logplot, x_max_logplot, num=200)\n",
    "    log_interp_y = coma.vmodel['column_density_interpolation'](log_interp_x)/(u.m**2)\n",
    "    log_interp_x *= u.m\n",
    "    log_interp_x.to(r_units)\n",
    "\n",
    "    plt.style.use('Solarize_Light2')\n",
    "\n",
    "    fig, (ax1, ax2) = plt.subplots(1, 2, figsize=(20, 10))\n",
    "\n",
    "    ax1.set(xlabel=f'Distance from nucleus, {r_units.to_string()}')\n",
    "    ax1.set(ylabel=f\"Fragment column density, {cd_units.unit.to_string()}\")\n",
    "    ax2.set(xlabel=f'Distance from nucleus, {r_units.to_string()}')\n",
    "    ax2.set(ylabel=f\"Fragment column density, {cd_units.unit.to_string()}\")\n",
    "    fig.suptitle(f\"Calculated column density of {frag_name}\")\n",
    "\n",
    "    ax1.set_xlim([x_min_linear, x_max_linear])\n",
    "    ax1.plot(lin_interp_x, lin_interp_y, color=\"red\",  linewidth=2.5, linestyle=\"-\", label=\"cubic spline\")\n",
    "    ax1.plot(coma.vmodel['column_density_grid'], coma.vmodel['column_densities'], 'bo', label=\"model\")\n",
    "    ax1.plot(coma.vmodel['column_density_grid'], coma.vmodel['column_densities'], 'g--', label=\"linear interpolation\")\n",
    "\n",
    "    ax2.set_xscale('log')\n",
    "    ax2.set_yscale('log')\n",
    "    ax2.loglog(log_interp_x, log_interp_y, color=\"red\",  linewidth=2.5, linestyle=\"-\", label=\"cubic spline\")\n",
    "    ax2.loglog(coma.vmodel['column_density_grid'], coma.vmodel['column_densities'], 'bo', label=\"model\")\n",
    "    ax2.loglog(coma.vmodel['column_density_grid'], coma.vmodel['column_densities'], 'g--', label=\"linear interpolation\")\n",
    "\n",
    "    ax1.set_ylim(bottom=0)\n",
    "\n",
    "    ax2.set_xlim(right=coma.vmodel['max_grid_radius'])\n",
    "\n",
    "    # Mark the beginning of the collision sphere\n",
    "    ax1.axvline(x=coma.vmodel['collision_sphere_radius'], color=solarblue)\n",
    "    ax2.axvline(x=coma.vmodel['collision_sphere_radius'], color=solarblue)\n",
    "\n",
    "    # Only plot as far as the maximum radius of our grid on log-log plot\n",
    "    ax2.axvline(x=coma.vmodel['max_grid_radius'])\n",
    "\n",
    "    # Mark the collision sphere\n",
    "    plt.text(coma.vmodel['collision_sphere_radius']*1.1, lin_interp_y[0]/10, 'Collision Sphere Edge', color=solarblue)\n",
    "\n",
    "    legend = plt.legend(loc='upper right', frameon=False)\n",
    "    for l_text in legend.get_texts():\n",
    "        l_text.set_color(solarblack)\n",
    "    plt.show()\n",
    "\n",
    "\n",
    "# for graphing with astropy units\n",
    "quantity_support()\n",
    "show_column_density_plots(coma_sine, u.km, 1/u.cm**2, 'OH')"
   ]
  },
  {
   "cell_type": "markdown",
   "id": "acceptable-reggae",
   "metadata": {},
   "source": [
    "\n",
    "\n",
    "### 3D plot of the interpolated column density"
   ]
  },
  {
   "cell_type": "code",
   "execution_count": null,
   "id": "nasty-reliance",
   "metadata": {
    "scrolled": false
   },
   "outputs": [],
   "source": [
    "def show_3d_column_density_plot(coma, x_min, x_max, y_min, y_max, grid_step_x, grid_step_y, r_units, cd_units, frag_name):\n",
    "    \"\"\" 3D plot of column density \"\"\"\n",
    "\n",
    "    x = np.linspace(x_min.to(u.m).value, x_max.to(u.m).value, grid_step_x)\n",
    "    y = np.linspace(y_min.to(u.m).value, y_max.to(u.m).value, grid_step_y)\n",
    "    xv, yv = np.meshgrid(x, y)\n",
    "    z = coma.vmodel['column_density_interpolation'](np.sqrt(xv**2 + yv**2))\n",
    "    # column_density_interpolation spits out m^-2\n",
    "    fz = (z/u.m**2).to(cd_units)\n",
    "\n",
    "    xu = np.linspace(x_min.to(r_units), x_max.to(r_units), grid_step_x)\n",
    "    yu = np.linspace(y_min.to(r_units), y_max.to(r_units), grid_step_y)\n",
    "    xvu, yvu = np.meshgrid(xu, yu)\n",
    "\n",
    "    plt.style.use('Solarize_Light2')\n",
    "    plt.style.use('dark_background')\n",
    "    plt.rcParams['grid.color'] = \"black\"\n",
    "\n",
    "    fig = plt.figure(figsize=(20, 20))\n",
    "    ax = plt.axes(projection='3d')\n",
    "    # ax.grid(False)\n",
    "    surf = ax.plot_surface(xvu, yvu, fz, cmap='inferno', vmin=0, edgecolor='none')\n",
    "\n",
    "    plt.gca().set_zlim(bottom=0)\n",
    "\n",
    "    ax.set_xlabel(f'Distance, ({r_units.to_string()})')\n",
    "    ax.set_ylabel(f'Distance, ({r_units.to_string()})')\n",
    "    ax.set_zlabel(f\"Column density, {cd_units.unit.to_string()}\")\n",
    "    plt.title(f\"Calculated column density of {frag_name}\")\n",
    "\n",
    "    ax.w_xaxis.set_pane_color(solargreen)\n",
    "    ax.w_yaxis.set_pane_color(solarblue)\n",
    "    ax.w_zaxis.set_pane_color(solarblack)\n",
    "\n",
    "    fig.colorbar(surf, shrink=0.5, aspect=5)\n",
    "    ax.view_init(90, 90)\n",
    "    plt.show()\n",
    "\n",
    "\n",
    "show_3d_column_density_plot(coma_sine, -100000*u.km, 100000*u.km, -100000*u.km, 100000*u.km, 1000, 1000, u.km, 1/u.cm**2, 'OH')"
   ]
  },
  {
   "cell_type": "markdown",
   "id": "induced-telephone",
   "metadata": {},
   "source": [
    "### Obtaining total counts of fragments within apertures\n",
    "The model is compatible with any sbpy aperture for obtaining total counts of fragments:"
   ]
  },
  {
   "cell_type": "code",
   "execution_count": null,
   "id": "challenging-trigger",
   "metadata": {},
   "outputs": [],
   "source": [
    "print(\"Number of fragments in\")\n",
    "# Set rectangular aperture to be the size of the entire grid\n",
    "ap1 = sba.RectangularAperture((coma_sine.vmodel['max_grid_radius'].value, \n",
    "                               coma_sine.vmodel['max_grid_radius'].value) * u.m)\n",
    "print(\"\\tLarge rectangular aperture: \", coma_sine.total_number(ap1))\n",
    "\n",
    "# One more time with a circular aperture\n",
    "ap2 = sba.CircularAperture((coma_sine.vmodel['max_grid_radius'].value) * u.m)\n",
    "print(\"\\tLarge circular aperture: \", coma_sine.total_number(ap2))"
   ]
  },
  {
   "cell_type": "markdown",
   "id": "specific-truck",
   "metadata": {},
   "source": [
    "The model's data is stored as a function of radial distance from the nucleus, so the circular aperture is generally more trustworthy with its results."
   ]
  },
  {
   "cell_type": "markdown",
   "id": "permanent-surname",
   "metadata": {},
   "source": [
    "### Optional parameters to the model"
   ]
  },
  {
   "cell_type": "markdown",
   "id": "eastern-protection",
   "metadata": {},
   "source": [
    "Beyond the production and time dependence, the following can be passed to VectorialModel to tweak its behavior:\n",
    "\n",
    "radial_points (int): Number of grid points to use for the radial density grids, both volume and column density\n",
    "\n",
    "radial_substeps (int): Controls how much each grid point will slice up the density-contributing sections of the coma\n",
    "\n",
    "angular_points (int): Number of angular slices to take around the coma\n",
    "\n",
    "angular_substeps (int): Controls the angular slicing of the density-contributing sections of the coma\n",
    "\n",
    "parent_destruction_level (float): Percentage of parent molecules that will be destroyed before the grid gets cut off\n",
    "\n",
    "fragment_destruction_level (float): Similar but for fragments\n",
    "\n",
    "max_fragment_lifetimes (float): If a fragment has to travel farther than this many lifetimes to contribute to the density at another point in the coma, we ignore it entirely\n",
    "\n",
    "print_progess (bool): This will periodically print out progress while calculating fragment density"
   ]
  }
 ],
 "metadata": {
  "kernelspec": {
   "display_name": "Python 3",
   "language": "python",
   "name": "python3"
  },
  "language_info": {
   "codemirror_mode": {
    "name": "ipython",
    "version": 3
   },
   "file_extension": ".py",
   "mimetype": "text/x-python",
   "name": "python",
   "nbconvert_exporter": "python",
   "pygments_lexer": "ipython3",
   "version": "3.10.0"
  }
 },
 "nbformat": 4,
 "nbformat_minor": 5
}
