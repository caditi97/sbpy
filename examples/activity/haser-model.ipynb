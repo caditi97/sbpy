{
 "cells": [
  {
   "cell_type": "markdown",
   "metadata": {},
   "source": [
    "# Haser model\n",
    "\n",
    "Reproduce Fig. 1 of Combi et al. (2004): Column density versus project distance for a family of Haser model profiles of a daughter species."
   ]
  },
  {
   "cell_type": "code",
   "execution_count": 1,
   "metadata": {
    "collapsed": false
   },
   "outputs": [
    {
     "ename": "ModuleNotFoundError",
     "evalue": "No module named 'sbpy'",
     "output_type": "error",
     "traceback": [
      "\u001b[0;31m---------------------------------------------------------------------------\u001b[0m",
      "\u001b[0;31mModuleNotFoundError\u001b[0m                       Traceback (most recent call last)",
      "\u001b[1;32m/Users/butterchicken/Desktop/LSST/sbpy/examples/activity/haser-model.ipynb Cell 2'\u001b[0m in \u001b[0;36m<module>\u001b[0;34m\u001b[0m\n\u001b[1;32m      <a href='vscode-notebook-cell:/Users/butterchicken/Desktop/LSST/sbpy/examples/activity/haser-model.ipynb#ch0000001?line=1'>2</a>\u001b[0m \u001b[39mimport\u001b[39;00m \u001b[39mmatplotlib\u001b[39;00m\u001b[39m.\u001b[39;00m\u001b[39mpyplot\u001b[39;00m \u001b[39mas\u001b[39;00m \u001b[39mplt\u001b[39;00m\n\u001b[1;32m      <a href='vscode-notebook-cell:/Users/butterchicken/Desktop/LSST/sbpy/examples/activity/haser-model.ipynb#ch0000001?line=2'>3</a>\u001b[0m \u001b[39mimport\u001b[39;00m \u001b[39mastropy\u001b[39;00m\u001b[39m.\u001b[39;00m\u001b[39munits\u001b[39;00m \u001b[39mas\u001b[39;00m \u001b[39mu\u001b[39;00m\n\u001b[0;32m----> <a href='vscode-notebook-cell:/Users/butterchicken/Desktop/LSST/sbpy/examples/activity/haser-model.ipynb#ch0000001?line=3'>4</a>\u001b[0m \u001b[39mfrom\u001b[39;00m \u001b[39msbpy\u001b[39;00m\u001b[39m.\u001b[39;00m\u001b[39mactivity\u001b[39;00m \u001b[39mimport\u001b[39;00m Haser\n\u001b[1;32m      <a href='vscode-notebook-cell:/Users/butterchicken/Desktop/LSST/sbpy/examples/activity/haser-model.ipynb#ch0000001?line=5'>6</a>\u001b[0m get_ipython()\u001b[39m.\u001b[39mrun_line_magic(\u001b[39m'\u001b[39m\u001b[39m'\u001b[39m, \u001b[39m'\u001b[39m\u001b[39mmatplotlib notebook\u001b[39m\u001b[39m'\u001b[39m)\n\u001b[1;32m      <a href='vscode-notebook-cell:/Users/butterchicken/Desktop/LSST/sbpy/examples/activity/haser-model.ipynb#ch0000001?line=7'>8</a>\u001b[0m Q \u001b[39m=\u001b[39m \u001b[39m1e28\u001b[39m \u001b[39m/\u001b[39m u\u001b[39m.\u001b[39ms\n",
      "\u001b[0;31mModuleNotFoundError\u001b[0m: No module named 'sbpy'"
     ]
    }
   ],
   "source": [
    "import numpy as np\n",
    "import matplotlib.pyplot as plt\n",
    "import astropy.units as u\n",
    "from sbpy.activity import Haser\n",
    "\n",
    "% matplotlib notebook\n",
    "\n",
    "Q = 1e28 / u.s\n",
    "v = 1 * u.km / u.s\n",
    "parent = 1e5 * u.km\n",
    "\n",
    "fig = plt.figure(1)\n",
    "fig.clear()\n",
    "ax = fig.add_subplot(111)\n",
    "\n",
    "rho = np.logspace(-3, 1) * parent\n",
    "norm = None\n",
    "for ratio in [1.01, 1.6, 4, 10, 25, 63, 158, 1e5]:\n",
    "    daughter = parent / ratio\n",
    "    coma = Haser(Q, v, parent, daughter)\n",
    "    N = coma.column_density(rho)\n",
    "    norm = 10 * coma.column_density(parent)\n",
    "    \n",
    "    plt.plot(rho / parent, N / norm, label=ratio)\n",
    "    \n",
    "plt.setp(ax, xlim=[1e-4, 1e2], xscale='log', xlabel='Log (projected distance)',\n",
    "         ylim=[1e-7, 1e3], yscale='log', ylabel='Log (relative column density)')\n",
    "plt.legend()\n",
    "plt.draw()"
   ]
  },
  {
   "cell_type": "markdown",
   "metadata": {},
   "source": [
    "Reproduce Newburn and Johnson (1978) CN, C2, and C3 production rates."
   ]
  },
  {
   "cell_type": "code",
   "execution_count": null,
   "metadata": {
    "collapsed": false
   },
   "outputs": [],
   "source": [
    "eph = {'rh': 1.07 * u.au, 'delta': 0.363 * u.au}\n",
    "aper = 12.5 * u.arcsec\n",
    "\n",
    "Nobs = {  # total number observed\n",
    "    'CN': 6.4e26,\n",
    "    'C3': 8.3e28,\n",
    "    'C2': 7.8e27,\n",
    "}\n",
    "\n",
    "gamma = {  # length scales: parent, daughter\n",
    "    'CN': (1.4e4, 1.7e5) * u.km,\n",
    "    'C3': (1.0,   4.6e4) * u.km,\n",
    "    'C2': (1.0e4, 7.6e4) * u.km,\n",
    "}\n",
    "\n",
    "Q = 1 / u.s\n",
    "v = 1 * u.km / u.s\n",
    "Q_v = []\n",
    "\n",
    "print('Retrieved Q/v:')\n",
    "for species in Nobs:\n",
    "    coma = Haser(Q, v, gamma[species][0], gamma[species][1])\n",
    "    N = coma.total_number(aper, eph)\n",
    "    Q_v.append(Nobs[species] * Q / v / N)\n",
    "    print('  {} = {}'.format(species, Q_v[-1]))"
   ]
  },
  {
   "cell_type": "code",
   "execution_count": null,
   "metadata": {
    "collapsed": false
   },
   "outputs": [],
   "source": []
  }
 ],
 "metadata": {
  "kernelspec": {
   "display_name": "Python 3",
   "language": "python",
   "name": "python3"
  },
  "language_info": {
   "codemirror_mode": {
    "name": "ipython",
    "version": 3
   },
   "file_extension": ".py",
   "mimetype": "text/x-python",
   "name": "python",
   "nbconvert_exporter": "python",
   "pygments_lexer": "ipython3",
   "version": "3.8.12"
  }
 },
 "nbformat": 4,
 "nbformat_minor": 2
}
